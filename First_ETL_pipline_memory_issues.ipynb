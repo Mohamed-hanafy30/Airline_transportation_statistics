{
 "cells": [
  {
   "cell_type": "markdown",
   "metadata": {},
   "source": [
    "# USA Airlines analysis By [BTS](https://transtats.bts.gov/DL_SelectFields.asp?Table_ID=236&DB_Short_Name=On-Time) \n",
    "\n",
    "### Introduction\n",
    "\n",
    "The United States Department of Transportation has Flight Stats available through the Bureau of Transportation Statistics.\n",
    "This data comes from The Bureau of Transportation Statistics and tracks destinations, distance, and delay information of flights across U.S. For this project, I chose the years **1995** through **February 2020** \n",
    "\n",
    "### Notes\n",
    "\n",
    "Throughout this notebook, you'll notice that most operations are single cell, this was because my machine kept running out of usable memory. The dataset was really large and required as much memory as possible for each operation. You will see multiple cells of code that could possibly be more code efficient, but were lengthened to reduce memory errors. You will also notice that after certain blocks of code, I outputted the dataframe to a csv. Some blocks of code took more than an hour to run. So to save my progress and make sure that I would not waste time re-running previous code, I would output my progress to a csv and then read it back in. I did not include these datasets in the repository, but have kept the code in the notebook.\n",
    "\n",
    "The BTS website did not allow users to download full years of data. I downloaded data from the BTS website month by month from **1995 to February 2020*** and then used pandas to merge the data together.after cleaning each Csv  file then save it back to another csv to reduce memory usage and drop unnessasry columns in this **Gigantic** dataset."
   ]
  },
  {
   "cell_type": "markdown",
   "metadata": {},
   "source": [
    "# ETL Pipeline Preparation\n",
    "Follow the instructions below to help you create your ETL pipeline.\n",
    "### 1. Import libraries and load datasets.\n",
    "- Import Python libraries\n",
    "- Load `2019_1.csv` into a dataframe and inspect the first few lines. this CSV file contains data for all airports for the period 1-1-2019 till 31-1-2019\n"
   ]
  },
  {
   "cell_type": "code",
   "execution_count": 49,
   "metadata": {},
   "outputs": [],
   "source": [
    "# import libraries\n",
    "import pandas as pd\n",
    "import numpy as np\n",
    "import sqlite3\n",
    "import math\n",
    "import datetime\n",
    "import time as t"
   ]
  },
  {
   "cell_type": "code",
   "execution_count": 50,
   "metadata": {},
   "outputs": [],
   "source": [
    "# load january 2019 dataset\n",
    "df1=pd.read_csv(r\"D:\\on time data for airlines\\2019\\2019_1.csv\",low_memory=False)"
   ]
  },
  {
   "cell_type": "code",
   "execution_count": 51,
   "metadata": {},
   "outputs": [
    {
     "name": "stdout",
     "output_type": "stream",
     "text": [
      "<class 'pandas.core.frame.DataFrame'>\n",
      "RangeIndex: 583985 entries, 0 to 583984\n",
      "Columns: 110 entries, Year to Unnamed: 109\n",
      "dtypes: float64(69), int64(21), object(20)\n",
      "memory usage: 490.1+ MB\n"
     ]
    }
   ],
   "source": [
    "df1.info(verbose=False)"
   ]
  },
  {
   "cell_type": "markdown",
   "metadata": {},
   "source": [
    "#### Memory usage_1\n",
    "Due to high data load this file only which contain just one month data uses **490 MB** so let's munge our data and keep necessary columns only to decrease or eliminate this issue"
   ]
  },
  {
   "cell_type": "markdown",
   "metadata": {},
   "source": [
    "## Memory size issue\n",
    "\n",
    "it's clear that after we have run this single month data for 2019 we use about **500 MB** of memory so what about data soan from 2020 to 1995 so about 25 years of data each year has 12 csv file so let's overcome this problem.\n",
    "\n",
    "### Soluntions\n",
    "\n",
    "1- Fisrt thing i will drop all unrelevant columns or columns provide unuseful information for my analysis \n",
    "\n",
    "2- I will invastigate all columns to find ranges of numerical data then i will downcast it to proper data type"
   ]
  },
  {
   "cell_type": "markdown",
   "metadata": {},
   "source": [
    "### Step 1 : remove Unnecessary columns"
   ]
  },
  {
   "cell_type": "markdown",
   "metadata": {},
   "source": [
    "### Un-necessary Data for our analysis\n",
    "\n",
    "We are not interested in further information about more than one **DIVERTED airport** so i will drop theses columns furthermore these columns contain almot 100% Nan values beacuse amot all flights didn't need diverted airport or at most only one diverted Airport"
   ]
  },
  {
   "cell_type": "code",
   "execution_count": 52,
   "metadata": {},
   "outputs": [],
   "source": [
    "Diverted_cols = ['Div2Airport','Div2AirportID','Div2AirportSeqID','Div2WheelsOn','Div2TotalGTime',\n",
    " 'Div2LongestGTime','Div2WheelsOff','Div2TailNum','Div3Airport','Div3AirportID','Div3AirportSeqID',\n",
    " 'Div3WheelsOn','Div3TotalGTime','Div3LongestGTime','Div3WheelsOff','Div3TailNum','Div4Airport',\n",
    " 'Div4AirportID','Div4AirportSeqID','Div4WheelsOn','Div4TotalGTime','Div4LongestGTime','Div4WheelsOff',\n",
    " 'Div4TailNum','Div5Airport','Div5AirportID','Div5AirportSeqID','Div5WheelsOn','Div5TotalGTime',\n",
    " 'Div5LongestGTime','Div5WheelsOff','Div5TailNum','Unnamed: 109']"
   ]
  },
  {
   "cell_type": "code",
   "execution_count": 53,
   "metadata": {},
   "outputs": [],
   "source": [
    "df1=df1.drop(Diverted_cols,axis=1)"
   ]
  },
  {
   "cell_type": "code",
   "execution_count": 54,
   "metadata": {},
   "outputs": [
    {
     "name": "stdout",
     "output_type": "stream",
     "text": [
      "<class 'pandas.core.frame.DataFrame'>\n",
      "RangeIndex: 583985 entries, 0 to 583984\n",
      "Columns: 77 entries, Year to Div1TailNum\n",
      "dtypes: float64(39), int64(21), object(17)\n",
      "memory usage: 343.1+ MB\n"
     ]
    }
   ],
   "source": [
    "df1.info(verbose=False)"
   ]
  },
  {
   "cell_type": "markdown",
   "metadata": {},
   "source": [
    "#### Memory usage_2\n",
    "After removing unnecessary data which describe the Second,third,fourth and fifth diverted airport we decreased memory usage by **26.85%** which becomes **343.1 MB**"
   ]
  },
  {
   "cell_type": "markdown",
   "metadata": {},
   "source": [
    "#### Redundant columns\n",
    "the follwing columns are repeted or contain information that not necessary or repetead in another form in another columns so i will drop it for memory issues \n",
    "\n",
    "`'DOT_ID_Reporting_Airline'`          didn't provide useful info \n",
    "\n",
    "`'IATA_CODE_Reporting_Airline'`       i will use **Reporting_Airline** column instead\n",
    "\n",
    "`'OriginAirportSeqID'`                i will use **OriginAirportID** as this column is unique for each airport over the years\n",
    "\n",
    "`'OriginStateFips'`                   this column contain fedral identfication number for each airport \n",
    "\n",
    "`'OriginState'`                       **OriginStateName** column in more handy\n",
    "\n",
    "`'OriginWac'`                         origin area code is not helpful for my analysis\n",
    "\n",
    "`'DestAirportSeqID'`                  i will use **DestAirportID** as this column is unique for each airport over the years\n",
    "\n",
    "`'DestState'`                         **DestStateName** column in more handy\n",
    "\n",
    "`'DestStateFips'`                     this column contain fedral identfication number for each airport \n",
    "\n",
    "`'DestWac'`                           Destination area code is not helpful for my analysis"
   ]
  },
  {
   "cell_type": "code",
   "execution_count": 55,
   "metadata": {},
   "outputs": [],
   "source": [
    "# unrelevant columns\n",
    "\n",
    "unrelevant_col = ['DOT_ID_Reporting_Airline',\n",
    "                  'IATA_CODE_Reporting_Airline',\n",
    "                  'OriginAirportSeqID',\n",
    "                  'OriginStateFips',\n",
    "                  'OriginState',\n",
    "                  'OriginWac',\n",
    "                  'DestAirportSeqID',\n",
    "                  'DestState',\n",
    "                  'DestStateFips',\n",
    "                  'Div1WheelsOff',                     \n",
    "                  'Div1TailNum',\n",
    "                  'Div1AirportSeqID',\n",
    "                  'DestWac']"
   ]
  },
  {
   "cell_type": "code",
   "execution_count": 56,
   "metadata": {},
   "outputs": [],
   "source": [
    "df1= df1.drop(unrelevant_col,axis=1)"
   ]
  },
  {
   "cell_type": "code",
   "execution_count": 57,
   "metadata": {},
   "outputs": [
    {
     "name": "stdout",
     "output_type": "stream",
     "text": [
      "<class 'pandas.core.frame.DataFrame'>\n",
      "RangeIndex: 583985 entries, 0 to 583984\n",
      "Columns: 64 entries, Year to Div1LongestGTime\n",
      "dtypes: float64(37), int64(14), object(13)\n",
      "memory usage: 285.1+ MB\n"
     ]
    }
   ],
   "source": [
    "df1.info(verbose=False)"
   ]
  },
  {
   "cell_type": "markdown",
   "metadata": {},
   "source": [
    "#### Memory usage_3\n",
    "After removing Redundant columns we decreased memory usage by **17%** which becomes **285.1 MB**"
   ]
  },
  {
   "cell_type": "markdown",
   "metadata": {},
   "source": [
    "### Step 2: Datatypes Downcasting"
   ]
  },
  {
   "cell_type": "code",
   "execution_count": 58,
   "metadata": {},
   "outputs": [
    {
     "data": {
      "text/plain": [
       "['Year',\n",
       " 'Quarter',\n",
       " 'Month',\n",
       " 'DayofMonth',\n",
       " 'DayOfWeek',\n",
       " 'Flight_Number_Reporting_Airline',\n",
       " 'OriginAirportID',\n",
       " 'OriginCityMarketID',\n",
       " 'DestAirportID',\n",
       " 'DestCityMarketID',\n",
       " 'CRSDepTime',\n",
       " 'CRSArrTime',\n",
       " 'DistanceGroup',\n",
       " 'DivAirportLandings']"
      ]
     },
     "execution_count": 58,
     "metadata": {},
     "output_type": "execute_result"
    }
   ],
   "source": [
    "cols=list(df1.select_dtypes('int64').columns)\n",
    "cols"
   ]
  },
  {
   "cell_type": "markdown",
   "metadata": {},
   "source": [
    "After examining each column and apply pandas.dataframe.describe() method to find statistics about each column its min and max specially to find ranges and which of them fit with **int16** and we find that all of thes columns fit wih **int16** except `'Flight_Number_Reporting_Airline'` but i will convert only **'OriginAirportID','DestAirportID','DistanceGroup'** and the rest will be categorical to save more memory and i will show why the rest are categorical after that\n",
    "\n",
    "as we know int16 uses 2 bytes of data while **int64** uses 8 bytes of data by this technique we will save alot of memory"
   ]
  },
  {
   "cell_type": "code",
   "execution_count": 59,
   "metadata": {},
   "outputs": [],
   "source": [
    "int_downcast=['OriginAirportID',\n",
    " 'DestAirportID',\n",
    " 'DistanceGroup']\n"
   ]
  },
  {
   "cell_type": "code",
   "execution_count": 60,
   "metadata": {},
   "outputs": [],
   "source": [
    "df1[int_downcast]=df1[int_downcast].astype('int16')"
   ]
  },
  {
   "cell_type": "code",
   "execution_count": 61,
   "metadata": {},
   "outputs": [
    {
     "name": "stdout",
     "output_type": "stream",
     "text": [
      "<class 'pandas.core.frame.DataFrame'>\n",
      "RangeIndex: 583985 entries, 0 to 583984\n",
      "Columns: 64 entries, Year to Div1LongestGTime\n",
      "dtypes: float64(37), int16(3), int64(11), object(13)\n",
      "memory usage: 275.1+ MB\n"
     ]
    }
   ],
   "source": [
    "df1.info(verbose=False)"
   ]
  },
  {
   "cell_type": "markdown",
   "metadata": {},
   "source": [
    "#### Memory usage_4\n",
    "After downcasting **int64** columns which can fit with **int16** we decreased memory usage from **285.1 MB** to **275.1 MB**"
   ]
  },
  {
   "cell_type": "code",
   "execution_count": 62,
   "metadata": {},
   "outputs": [],
   "source": [
    "float_downcast=['Distance',\n",
    " 'CarrierDelay',\n",
    " 'WeatherDelay',\n",
    " 'NASDelay',\n",
    " 'SecurityDelay',\n",
    " 'LateAircraftDelay',\n",
    " 'DivArrDelay',\n",
    " 'DivDistance','Div1TotalGTime',\n",
    " 'Div1LongestGTime',\n",
    " 'Div1AirportID']"
   ]
  },
  {
   "cell_type": "markdown",
   "metadata": {},
   "source": [
    "##### First \n",
    "\n",
    "`'Flights'` can be converted to int8\n",
    "\n",
    "##### Second\n",
    " **`'Distance','CarrierDelay','WeatherDelay','NASDelay'`,**\n",
    " \n",
    "**`'SecurityDelay','LateAircraftDelay','DivArrDelay','DivDistance'`,**\n",
    " \n",
    " **`'Div1TotalGTime','Div1LongestGTime'`**\n",
    " \n",
    "**can be converted to float16 as the range for theire values between -32768 and 32767**\n",
    "\n",
    "other columns like \n",
    "**`'DepDel15','ArrDel15','Cancelled','Diverted','DivReachedDest'`** are ust an **indicator** 0,1 so i will convert them into **Boolean** in the next step after converting the previous columns into **float16**"
   ]
  },
  {
   "cell_type": "code",
   "execution_count": 63,
   "metadata": {},
   "outputs": [],
   "source": [
    "df1['Flights']=df1['Flights'].astype('int8')\n",
    "\n",
    "df1[float_downcast]=df1[float_downcast].astype('float16')"
   ]
  },
  {
   "cell_type": "code",
   "execution_count": 64,
   "metadata": {},
   "outputs": [
    {
     "name": "stdout",
     "output_type": "stream",
     "text": [
      "<class 'pandas.core.frame.DataFrame'>\n",
      "RangeIndex: 583985 entries, 0 to 583984\n",
      "Columns: 64 entries, Year to Div1LongestGTime\n",
      "dtypes: float16(11), float64(25), int16(3), int64(11), int8(1), object(13)\n",
      "memory usage: 234.5+ MB\n"
     ]
    }
   ],
   "source": [
    "df1.info(verbose=False)"
   ]
  },
  {
   "cell_type": "markdown",
   "metadata": {},
   "source": [
    "#### Memory usage_5\n",
    "After downcasting **float64** columns which can fit with **float16** we decreased memory usage from **275.1 MB**  to **234.5 MB**"
   ]
  },
  {
   "cell_type": "code",
   "execution_count": 65,
   "metadata": {},
   "outputs": [],
   "source": [
    "bool_downcast=[\n",
    " 'DepDel15',\n",
    " 'ArrDel15',\n",
    " 'Cancelled',\n",
    " 'Diverted',\n",
    " 'DivReachedDest']\n",
    "\n",
    "df1[bool_downcast]=df1[bool_downcast].astype('bool')"
   ]
  },
  {
   "cell_type": "code",
   "execution_count": 66,
   "metadata": {},
   "outputs": [
    {
     "name": "stdout",
     "output_type": "stream",
     "text": [
      "<class 'pandas.core.frame.DataFrame'>\n",
      "RangeIndex: 583985 entries, 0 to 583984\n",
      "Columns: 64 entries, Year to Div1LongestGTime\n",
      "dtypes: bool(5), float16(11), float64(20), int16(3), int64(11), int8(1), object(13)\n",
      "memory usage: 215.0+ MB\n"
     ]
    }
   ],
   "source": [
    "df1.info(verbose=False)"
   ]
  },
  {
   "cell_type": "markdown",
   "metadata": {},
   "source": [
    "#### Memory usage_6\n",
    "After downcasting **some of float64** columns which are just an indicator into **bool** we decreased memory usage from **234.5 MB** to **215 MB**\n",
    "\n",
    "After that we still have columns their dtypes are **int64** while we can convert them into **int32** to save more memory"
   ]
  },
  {
   "cell_type": "code",
   "execution_count": 67,
   "metadata": {},
   "outputs": [],
   "source": [
    "int_downcast_32=['Flight_Number_Reporting_Airline',\n",
    " 'OriginCityMarketID',\n",
    " 'DestCityMarketID',\n",
    " 'CRSDepTime',\n",
    " 'CRSArrTime']\n"
   ]
  },
  {
   "cell_type": "code",
   "execution_count": 68,
   "metadata": {},
   "outputs": [],
   "source": [
    "df1[int_downcast_32]=df1[int_downcast_32].astype('int32')"
   ]
  },
  {
   "cell_type": "code",
   "execution_count": 69,
   "metadata": {},
   "outputs": [
    {
     "name": "stdout",
     "output_type": "stream",
     "text": [
      "<class 'pandas.core.frame.DataFrame'>\n",
      "RangeIndex: 583985 entries, 0 to 583984\n",
      "Columns: 64 entries, Year to Div1LongestGTime\n",
      "dtypes: bool(5), float16(11), float64(20), int16(3), int32(5), int64(6), int8(1), object(13)\n",
      "memory usage: 203.8+ MB\n"
     ]
    }
   ],
   "source": [
    "df1.info(verbose=False)"
   ]
  },
  {
   "cell_type": "markdown",
   "metadata": {},
   "source": [
    "#### Memory usage_7\n",
    "After downcasting **'Flight_Number_Reporting_Airline','OriginCityMarketID','DestCityMarketID','CRSDepTime',\n",
    " 'CRSArrTime'** columns which are **int64** into **int32** we decreased memory usage from **215 MB** to **203.8 MB**\n"
   ]
  },
  {
   "cell_type": "code",
   "execution_count": 70,
   "metadata": {},
   "outputs": [],
   "source": [
    "unique_counts = pd.DataFrame.from_records([(col, df1[col].nunique()) for col in df1.columns],\n",
    "                          columns=['Column_Name', 'Num_Unique']).sort_values(by=['Num_Unique'])"
   ]
  },
  {
   "cell_type": "code",
   "execution_count": 71,
   "metadata": {},
   "outputs": [
    {
     "data": {
      "text/html": [
       "<div>\n",
       "<style scoped>\n",
       "    .dataframe tbody tr th:only-of-type {\n",
       "        vertical-align: middle;\n",
       "    }\n",
       "\n",
       "    .dataframe tbody tr th {\n",
       "        vertical-align: top;\n",
       "    }\n",
       "\n",
       "    .dataframe thead th {\n",
       "        text-align: right;\n",
       "    }\n",
       "</style>\n",
       "<table border=\"1\" class=\"dataframe\">\n",
       "  <thead>\n",
       "    <tr style=\"text-align: right;\">\n",
       "      <th></th>\n",
       "      <th>Column_Name</th>\n",
       "      <th>Num_Unique</th>\n",
       "    </tr>\n",
       "  </thead>\n",
       "  <tbody>\n",
       "    <tr>\n",
       "      <th>0</th>\n",
       "      <td>Year</td>\n",
       "      <td>1</td>\n",
       "    </tr>\n",
       "    <tr>\n",
       "      <th>2</th>\n",
       "      <td>Month</td>\n",
       "      <td>1</td>\n",
       "    </tr>\n",
       "    <tr>\n",
       "      <th>43</th>\n",
       "      <td>Flights</td>\n",
       "      <td>1</td>\n",
       "    </tr>\n",
       "    <tr>\n",
       "      <th>1</th>\n",
       "      <td>Quarter</td>\n",
       "      <td>1</td>\n",
       "    </tr>\n",
       "    <tr>\n",
       "      <th>39</th>\n",
       "      <td>Diverted</td>\n",
       "      <td>2</td>\n",
       "    </tr>\n",
       "    <tr>\n",
       "      <th>34</th>\n",
       "      <td>ArrDel15</td>\n",
       "      <td>2</td>\n",
       "    </tr>\n",
       "    <tr>\n",
       "      <th>37</th>\n",
       "      <td>Cancelled</td>\n",
       "      <td>2</td>\n",
       "    </tr>\n",
       "    <tr>\n",
       "      <th>23</th>\n",
       "      <td>DepDel15</td>\n",
       "      <td>2</td>\n",
       "    </tr>\n",
       "    <tr>\n",
       "      <th>55</th>\n",
       "      <td>DivReachedDest</td>\n",
       "      <td>2</td>\n",
       "    </tr>\n",
       "    <tr>\n",
       "      <th>38</th>\n",
       "      <td>CancellationCode</td>\n",
       "      <td>4</td>\n",
       "    </tr>\n",
       "    <tr>\n",
       "      <th>54</th>\n",
       "      <td>DivAirportLandings</td>\n",
       "      <td>5</td>\n",
       "    </tr>\n",
       "    <tr>\n",
       "      <th>4</th>\n",
       "      <td>DayOfWeek</td>\n",
       "      <td>7</td>\n",
       "    </tr>\n",
       "    <tr>\n",
       "      <th>45</th>\n",
       "      <td>DistanceGroup</td>\n",
       "      <td>11</td>\n",
       "    </tr>\n",
       "    <tr>\n",
       "      <th>24</th>\n",
       "      <td>DepartureDelayGroups</td>\n",
       "      <td>15</td>\n",
       "    </tr>\n",
       "    <tr>\n",
       "      <th>35</th>\n",
       "      <td>ArrivalDelayGroups</td>\n",
       "      <td>15</td>\n",
       "    </tr>\n",
       "    <tr>\n",
       "      <th>6</th>\n",
       "      <td>Reporting_Airline</td>\n",
       "      <td>17</td>\n",
       "    </tr>\n",
       "    <tr>\n",
       "      <th>36</th>\n",
       "      <td>ArrTimeBlk</td>\n",
       "      <td>19</td>\n",
       "    </tr>\n",
       "    <tr>\n",
       "      <th>25</th>\n",
       "      <td>DepTimeBlk</td>\n",
       "      <td>19</td>\n",
       "    </tr>\n",
       "    <tr>\n",
       "      <th>5</th>\n",
       "      <td>FlightDate</td>\n",
       "      <td>31</td>\n",
       "    </tr>\n",
       "    <tr>\n",
       "      <th>3</th>\n",
       "      <td>DayofMonth</td>\n",
       "      <td>31</td>\n",
       "    </tr>\n",
       "  </tbody>\n",
       "</table>\n",
       "</div>"
      ],
      "text/plain": [
       "             Column_Name  Num_Unique\n",
       "0                   Year           1\n",
       "2                  Month           1\n",
       "43               Flights           1\n",
       "1                Quarter           1\n",
       "39              Diverted           2\n",
       "34              ArrDel15           2\n",
       "37             Cancelled           2\n",
       "23              DepDel15           2\n",
       "55        DivReachedDest           2\n",
       "38      CancellationCode           4\n",
       "54    DivAirportLandings           5\n",
       "4              DayOfWeek           7\n",
       "45         DistanceGroup          11\n",
       "24  DepartureDelayGroups          15\n",
       "35    ArrivalDelayGroups          15\n",
       "6      Reporting_Airline          17\n",
       "36            ArrTimeBlk          19\n",
       "25            DepTimeBlk          19\n",
       "5             FlightDate          31\n",
       "3             DayofMonth          31"
      ]
     },
     "execution_count": 71,
     "metadata": {},
     "output_type": "execute_result"
    }
   ],
   "source": [
    "unique_counts.head(20)"
   ]
  },
  {
   "cell_type": "markdown",
   "metadata": {},
   "source": [
    "### Categorical columns conversion\n",
    "\n",
    "after investigating the above columns which has less number of unique values i will convert **'DivAirportLandings',\n",
    "'DepartureDelayGroups','ArrivalDelayGroups','DistanceGroup','Year','Quarter','Month','DayofMonth','DayOfWeek','CancellationCode** and the rest of columns will be converted into appropriate form of date and time"
   ]
  },
  {
   "cell_type": "code",
   "execution_count": 72,
   "metadata": {},
   "outputs": [],
   "source": [
    "categorical_downcast=['DivAirportLandings',\n",
    "                      'DepartureDelayGroups',\n",
    "                      'ArrivalDelayGroups',\n",
    "                      'DistanceGroup',\n",
    "                      'Year',\n",
    "                      'Quarter',\n",
    "                      'Month',\n",
    "                      'DayofMonth',\n",
    "                      'DayOfWeek',\n",
    "                      'CancellationCode']\n",
    "df1[categorical_downcast]=df1[categorical_downcast].astype('category')\n"
   ]
  },
  {
   "cell_type": "code",
   "execution_count": 73,
   "metadata": {},
   "outputs": [
    {
     "name": "stdout",
     "output_type": "stream",
     "text": [
      "<class 'pandas.core.frame.DataFrame'>\n",
      "RangeIndex: 583985 entries, 0 to 583984\n",
      "Columns: 64 entries, Year to Div1LongestGTime\n",
      "dtypes: bool(5), category(10), float16(11), float64(18), int16(2), int32(5), int8(1), object(12)\n",
      "memory usage: 168.2+ MB\n"
     ]
    }
   ],
   "source": [
    "df1.info(verbose=False)"
   ]
  },
  {
   "cell_type": "markdown",
   "metadata": {},
   "source": [
    "#### Memory usage_7\n",
    "After converting **'DepartureDelayGroups','ArrivalDelayGroups','DistanceGroup'** columns which are **float64** into **categorical data-type** we decreased memory usage from **203.8 MB** to **168.2 MB**\n"
   ]
  },
  {
   "cell_type": "markdown",
   "metadata": {},
   "source": [
    "#### Time and date columns in float64 Format\n",
    "\n",
    "we can observe that each one of rest of **float64** columns describe date or time information and after investigating their range all of them can fit into **float16** format this is a transitional step before converting them into approprite **datetime** format"
   ]
  },
  {
   "cell_type": "code",
   "execution_count": 74,
   "metadata": {},
   "outputs": [],
   "source": [
    "time_float_downcast=['DepTime',\n",
    " 'DepDelay',\n",
    " 'DepDelayMinutes',\n",
    " 'TaxiOut',\n",
    " 'WheelsOff',\n",
    " 'WheelsOn',\n",
    " 'TaxiIn',\n",
    " 'ArrTime',\n",
    " 'ArrDelay',\n",
    " 'ArrDelayMinutes',\n",
    " 'CRSElapsedTime',\n",
    " 'ActualElapsedTime',\n",
    " 'AirTime',\n",
    " 'FirstDepTime',\n",
    " 'TotalAddGTime',\n",
    " 'LongestAddGTime',\n",
    " 'DivActualElapsedTime',\n",
    " 'Div1WheelsOn',\n",
    " 'CRSArrTime', 'CRSDepTime']"
   ]
  },
  {
   "cell_type": "code",
   "execution_count": 75,
   "metadata": {},
   "outputs": [],
   "source": [
    "df1[time_float_downcast]=df1[time_float_downcast].astype('float16')"
   ]
  },
  {
   "cell_type": "code",
   "execution_count": 76,
   "metadata": {},
   "outputs": [
    {
     "name": "stdout",
     "output_type": "stream",
     "text": [
      "<class 'pandas.core.frame.DataFrame'>\n",
      "RangeIndex: 583985 entries, 0 to 583984\n",
      "Columns: 64 entries, Year to Div1LongestGTime\n",
      "dtypes: bool(5), category(10), float16(31), int16(2), int32(3), int8(1), object(12)\n",
      "memory usage: 105.8+ MB\n"
     ]
    }
   ],
   "source": [
    "df1.info(verbose=False)"
   ]
  },
  {
   "cell_type": "code",
   "execution_count": 77,
   "metadata": {},
   "outputs": [],
   "source": [
    "# hhmm columns in our dataframe\n",
    "hhmm=['DepTime',\n",
    "      'CRSArrTime', \n",
    "      'CRSDepTime',\n",
    "      'WheelsOff',\n",
    "      'WheelsOn',\n",
    "      'ArrTime']"
   ]
  },
  {
   "cell_type": "code",
   "execution_count": 78,
   "metadata": {},
   "outputs": [],
   "source": [
    "df1 = df1.dropna(subset= hhmm)"
   ]
  },
  {
   "cell_type": "code",
   "execution_count": 79,
   "metadata": {},
   "outputs": [
    {
     "data": {
      "text/plain": [
       "(566924, 64)"
      ]
     },
     "execution_count": 79,
     "metadata": {},
     "output_type": "execute_result"
    }
   ],
   "source": [
    "df1.shape"
   ]
  },
  {
   "cell_type": "code",
   "execution_count": 80,
   "metadata": {},
   "outputs": [
    {
     "name": "stdout",
     "output_type": "stream",
     "text": [
      "<class 'pandas.core.frame.DataFrame'>\n",
      "Int64Index: 566924 entries, 0 to 583984\n",
      "Columns: 64 entries, Year to Div1LongestGTime\n",
      "dtypes: bool(5), category(10), float16(31), int16(2), int32(3), int8(1), object(12)\n",
      "memory usage: 107.1+ MB\n"
     ]
    }
   ],
   "source": [
    "df1.info(verbose=False)"
   ]
  },
  {
   "cell_type": "code",
   "execution_count": 81,
   "metadata": {},
   "outputs": [],
   "source": [
    "def std_time_1(col):\n",
    "\n",
    "    Hours = int(col / 100)\n",
    "    Minute = round(float(col/ 100) - Hours,2)\n",
    "    Hours = str(int(Hours)).zfill(2)\n",
    "    Minute = str(Minute).replace('0.','').zfill(2)\n",
    "    my_str = Hours+':'+Minute\n",
    "    \n",
    "    return my_str\n",
    "    "
   ]
  },
  {
   "cell_type": "code",
   "execution_count": 82,
   "metadata": {},
   "outputs": [],
   "source": [
    "for i in hhmm:\n",
    "    df1[i]=df1[i].apply(lambda x:std_time_1(x))"
   ]
  },
  {
   "cell_type": "code",
   "execution_count": 83,
   "metadata": {},
   "outputs": [],
   "source": [
    "for i in hhmm:\n",
    "    df1[i]=df1[i].str.replace('24:00','23:59')"
   ]
  },
  {
   "cell_type": "code",
   "execution_count": 84,
   "metadata": {},
   "outputs": [],
   "source": [
    "def std_time(string):\n",
    "    return datetime.datetime.strptime(string, '%H:%M').time()"
   ]
  },
  {
   "cell_type": "code",
   "execution_count": 85,
   "metadata": {},
   "outputs": [],
   "source": [
    "for i in hhmm:\n",
    "    df1[i]=df1[i].apply(lambda x:std_time(x))"
   ]
  },
  {
   "cell_type": "code",
   "execution_count": 86,
   "metadata": {},
   "outputs": [
    {
     "data": {
      "text/html": [
       "<div>\n",
       "<style scoped>\n",
       "    .dataframe tbody tr th:only-of-type {\n",
       "        vertical-align: middle;\n",
       "    }\n",
       "\n",
       "    .dataframe tbody tr th {\n",
       "        vertical-align: top;\n",
       "    }\n",
       "\n",
       "    .dataframe thead th {\n",
       "        text-align: right;\n",
       "    }\n",
       "</style>\n",
       "<table border=\"1\" class=\"dataframe\">\n",
       "  <thead>\n",
       "    <tr style=\"text-align: right;\">\n",
       "      <th></th>\n",
       "      <th>DepTime</th>\n",
       "      <th>CRSArrTime</th>\n",
       "      <th>CRSDepTime</th>\n",
       "      <th>WheelsOff</th>\n",
       "      <th>WheelsOn</th>\n",
       "      <th>ArrTime</th>\n",
       "    </tr>\n",
       "  </thead>\n",
       "  <tbody>\n",
       "    <tr>\n",
       "      <th>0</th>\n",
       "      <td>13:53:00</td>\n",
       "      <td>15:01:00</td>\n",
       "      <td>14:00:00</td>\n",
       "      <td>14:02:00</td>\n",
       "      <td>14:39:00</td>\n",
       "      <td>14:44:00</td>\n",
       "    </tr>\n",
       "    <tr>\n",
       "      <th>1</th>\n",
       "      <td>09:03:00</td>\n",
       "      <td>11:18:00</td>\n",
       "      <td>09:35:00</td>\n",
       "      <td>09:57:00</td>\n",
       "      <td>11:13:00</td>\n",
       "      <td>11:19:00</td>\n",
       "    </tr>\n",
       "    <tr>\n",
       "      <th>2</th>\n",
       "      <td>06:37:00</td>\n",
       "      <td>08:55:00</td>\n",
       "      <td>06:43:00</td>\n",
       "      <td>06:54:00</td>\n",
       "      <td>08:22:00</td>\n",
       "      <td>08:38:00</td>\n",
       "    </tr>\n",
       "    <tr>\n",
       "      <th>3</th>\n",
       "      <td>13:14:00</td>\n",
       "      <td>14:33:00</td>\n",
       "      <td>13:35:00</td>\n",
       "      <td>13:37:00</td>\n",
       "      <td>13:57:00</td>\n",
       "      <td>14:04:00</td>\n",
       "    </tr>\n",
       "    <tr>\n",
       "      <th>4</th>\n",
       "      <td>08:26:00</td>\n",
       "      <td>10:04:00</td>\n",
       "      <td>08:36:00</td>\n",
       "      <td>08:52:00</td>\n",
       "      <td>09:59:00</td>\n",
       "      <td>10:09:00</td>\n",
       "    </tr>\n",
       "  </tbody>\n",
       "</table>\n",
       "</div>"
      ],
      "text/plain": [
       "    DepTime CRSArrTime CRSDepTime WheelsOff  WheelsOn   ArrTime\n",
       "0  13:53:00   15:01:00   14:00:00  14:02:00  14:39:00  14:44:00\n",
       "1  09:03:00   11:18:00   09:35:00  09:57:00  11:13:00  11:19:00\n",
       "2  06:37:00   08:55:00   06:43:00  06:54:00  08:22:00  08:38:00\n",
       "3  13:14:00   14:33:00   13:35:00  13:37:00  13:57:00  14:04:00\n",
       "4  08:26:00   10:04:00   08:36:00  08:52:00  09:59:00  10:09:00"
      ]
     },
     "execution_count": 86,
     "metadata": {},
     "output_type": "execute_result"
    }
   ],
   "source": [
    "df1[hhmm].head()"
   ]
  },
  {
   "cell_type": "code",
   "execution_count": 87,
   "metadata": {},
   "outputs": [
    {
     "data": {
      "text/html": [
       "<div>\n",
       "<style scoped>\n",
       "    .dataframe tbody tr th:only-of-type {\n",
       "        vertical-align: middle;\n",
       "    }\n",
       "\n",
       "    .dataframe tbody tr th {\n",
       "        vertical-align: top;\n",
       "    }\n",
       "\n",
       "    .dataframe thead th {\n",
       "        text-align: right;\n",
       "    }\n",
       "</style>\n",
       "<table border=\"1\" class=\"dataframe\">\n",
       "  <thead>\n",
       "    <tr style=\"text-align: right;\">\n",
       "      <th></th>\n",
       "      <th>FlightDate</th>\n",
       "      <th>OriginCityName</th>\n",
       "      <th>OriginStateName</th>\n",
       "      <th>DestCityName</th>\n",
       "      <th>DestStateName</th>\n",
       "    </tr>\n",
       "  </thead>\n",
       "  <tbody>\n",
       "    <tr>\n",
       "      <th>0</th>\n",
       "      <td>2019-01-04</td>\n",
       "      <td>San Luis Obispo, CA</td>\n",
       "      <td>California</td>\n",
       "      <td>San Francisco, CA</td>\n",
       "      <td>California</td>\n",
       "    </tr>\n",
       "    <tr>\n",
       "      <th>1</th>\n",
       "      <td>2019-01-04</td>\n",
       "      <td>Houston, TX</td>\n",
       "      <td>Texas</td>\n",
       "      <td>Fayetteville, AR</td>\n",
       "      <td>Arkansas</td>\n",
       "    </tr>\n",
       "    <tr>\n",
       "      <th>2</th>\n",
       "      <td>2019-01-04</td>\n",
       "      <td>Springfield, MO</td>\n",
       "      <td>Missouri</td>\n",
       "      <td>Houston, TX</td>\n",
       "      <td>Texas</td>\n",
       "    </tr>\n",
       "    <tr>\n",
       "      <th>3</th>\n",
       "      <td>2019-01-04</td>\n",
       "      <td>Williston, ND</td>\n",
       "      <td>North Dakota</td>\n",
       "      <td>Denver, CO</td>\n",
       "      <td>Colorado</td>\n",
       "    </tr>\n",
       "    <tr>\n",
       "      <th>4</th>\n",
       "      <td>2019-01-04</td>\n",
       "      <td>Milwaukee, WI</td>\n",
       "      <td>Wisconsin</td>\n",
       "      <td>Denver, CO</td>\n",
       "      <td>Colorado</td>\n",
       "    </tr>\n",
       "  </tbody>\n",
       "</table>\n",
       "</div>"
      ],
      "text/plain": [
       "   FlightDate       OriginCityName OriginStateName       DestCityName  \\\n",
       "0  2019-01-04  San Luis Obispo, CA      California  San Francisco, CA   \n",
       "1  2019-01-04          Houston, TX           Texas   Fayetteville, AR   \n",
       "2  2019-01-04      Springfield, MO        Missouri        Houston, TX   \n",
       "3  2019-01-04        Williston, ND    North Dakota         Denver, CO   \n",
       "4  2019-01-04        Milwaukee, WI       Wisconsin         Denver, CO   \n",
       "\n",
       "  DestStateName  \n",
       "0    California  \n",
       "1      Arkansas  \n",
       "2         Texas  \n",
       "3      Colorado  \n",
       "4      Colorado  "
      ]
     },
     "execution_count": 87,
     "metadata": {},
     "output_type": "execute_result"
    }
   ],
   "source": [
    "df1[['FlightDate','OriginCityName','OriginStateName','DestCityName','DestStateName']].head()"
   ]
  },
  {
   "cell_type": "code",
   "execution_count": 88,
   "metadata": {},
   "outputs": [],
   "source": [
    "df1['OriginCityName'] = df1['OriginCityName'].str.split(',')\n",
    "df1['DestCityName'] = df1['DestCityName'].str.split(',')\n",
    "df1['OriginCityName'] = df1['OriginCityName'].str[0]\n",
    "df1['DestCityName'] = df1['DestCityName'].str[0]"
   ]
  },
  {
   "cell_type": "code",
   "execution_count": 90,
   "metadata": {},
   "outputs": [
    {
     "data": {
      "text/html": [
       "<div>\n",
       "<style scoped>\n",
       "    .dataframe tbody tr th:only-of-type {\n",
       "        vertical-align: middle;\n",
       "    }\n",
       "\n",
       "    .dataframe tbody tr th {\n",
       "        vertical-align: top;\n",
       "    }\n",
       "\n",
       "    .dataframe thead th {\n",
       "        text-align: right;\n",
       "    }\n",
       "</style>\n",
       "<table border=\"1\" class=\"dataframe\">\n",
       "  <thead>\n",
       "    <tr style=\"text-align: right;\">\n",
       "      <th></th>\n",
       "      <th>FlightDate</th>\n",
       "      <th>OriginCityName</th>\n",
       "      <th>OriginStateName</th>\n",
       "      <th>DestCityName</th>\n",
       "      <th>DestStateName</th>\n",
       "    </tr>\n",
       "  </thead>\n",
       "  <tbody>\n",
       "    <tr>\n",
       "      <th>0</th>\n",
       "      <td>2019-01-04</td>\n",
       "      <td>San Luis Obispo</td>\n",
       "      <td>California</td>\n",
       "      <td>San Francisco</td>\n",
       "      <td>California</td>\n",
       "    </tr>\n",
       "    <tr>\n",
       "      <th>1</th>\n",
       "      <td>2019-01-04</td>\n",
       "      <td>Houston</td>\n",
       "      <td>Texas</td>\n",
       "      <td>Fayetteville</td>\n",
       "      <td>Arkansas</td>\n",
       "    </tr>\n",
       "    <tr>\n",
       "      <th>2</th>\n",
       "      <td>2019-01-04</td>\n",
       "      <td>Springfield</td>\n",
       "      <td>Missouri</td>\n",
       "      <td>Houston</td>\n",
       "      <td>Texas</td>\n",
       "    </tr>\n",
       "    <tr>\n",
       "      <th>3</th>\n",
       "      <td>2019-01-04</td>\n",
       "      <td>Williston</td>\n",
       "      <td>North Dakota</td>\n",
       "      <td>Denver</td>\n",
       "      <td>Colorado</td>\n",
       "    </tr>\n",
       "    <tr>\n",
       "      <th>4</th>\n",
       "      <td>2019-01-04</td>\n",
       "      <td>Milwaukee</td>\n",
       "      <td>Wisconsin</td>\n",
       "      <td>Denver</td>\n",
       "      <td>Colorado</td>\n",
       "    </tr>\n",
       "  </tbody>\n",
       "</table>\n",
       "</div>"
      ],
      "text/plain": [
       "   FlightDate   OriginCityName OriginStateName   DestCityName DestStateName\n",
       "0  2019-01-04  San Luis Obispo      California  San Francisco    California\n",
       "1  2019-01-04          Houston           Texas   Fayetteville      Arkansas\n",
       "2  2019-01-04      Springfield        Missouri        Houston         Texas\n",
       "3  2019-01-04        Williston    North Dakota         Denver      Colorado\n",
       "4  2019-01-04        Milwaukee       Wisconsin         Denver      Colorado"
      ]
     },
     "execution_count": 90,
     "metadata": {},
     "output_type": "execute_result"
    }
   ],
   "source": [
    "df1[['FlightDate','OriginCityName','OriginStateName','DestCityName','DestStateName']].head()"
   ]
  },
  {
   "cell_type": "markdown",
   "metadata": {},
   "source": [
    "#### Memory usage_8\n",
    "\n",
    "After converting **'DepTime','CRSArrTime', 'CRSDepTime','WheelsOff','WheelsOn','ArrTime'** columns which are **float16** into **datetime then extract the time part of it** this step increase memory usage from **107.1 MB** To **126.5 MB** but this step is necessary for further analysis \n"
   ]
  },
  {
   "cell_type": "code",
   "execution_count": 91,
   "metadata": {},
   "outputs": [
    {
     "data": {
      "text/plain": [
       "['Year',\n",
       " 'Quarter',\n",
       " 'Month',\n",
       " 'DayofMonth',\n",
       " 'DayOfWeek',\n",
       " 'FlightDate',\n",
       " 'Reporting_Airline',\n",
       " 'Tail_Number',\n",
       " 'Flight_Number_Reporting_Airline',\n",
       " 'OriginAirportID',\n",
       " 'OriginCityMarketID',\n",
       " 'Origin',\n",
       " 'OriginCityName',\n",
       " 'OriginStateName',\n",
       " 'DestAirportID',\n",
       " 'DestCityMarketID',\n",
       " 'Dest',\n",
       " 'DestCityName',\n",
       " 'DestStateName',\n",
       " 'CRSDepTime',\n",
       " 'DepTime',\n",
       " 'DepDelay',\n",
       " 'DepDelayMinutes',\n",
       " 'DepDel15',\n",
       " 'DepartureDelayGroups',\n",
       " 'DepTimeBlk',\n",
       " 'TaxiOut',\n",
       " 'WheelsOff',\n",
       " 'WheelsOn',\n",
       " 'TaxiIn',\n",
       " 'CRSArrTime',\n",
       " 'ArrTime',\n",
       " 'ArrDelay',\n",
       " 'ArrDelayMinutes',\n",
       " 'ArrDel15',\n",
       " 'ArrivalDelayGroups',\n",
       " 'ArrTimeBlk',\n",
       " 'Cancelled',\n",
       " 'CancellationCode',\n",
       " 'Diverted',\n",
       " 'CRSElapsedTime',\n",
       " 'ActualElapsedTime',\n",
       " 'AirTime',\n",
       " 'Flights',\n",
       " 'Distance',\n",
       " 'DistanceGroup',\n",
       " 'CarrierDelay',\n",
       " 'WeatherDelay',\n",
       " 'NASDelay',\n",
       " 'SecurityDelay',\n",
       " 'LateAircraftDelay',\n",
       " 'FirstDepTime',\n",
       " 'TotalAddGTime',\n",
       " 'LongestAddGTime',\n",
       " 'DivAirportLandings',\n",
       " 'DivReachedDest',\n",
       " 'DivActualElapsedTime',\n",
       " 'DivArrDelay',\n",
       " 'DivDistance',\n",
       " 'Div1Airport',\n",
       " 'Div1AirportID',\n",
       " 'Div1WheelsOn',\n",
       " 'Div1TotalGTime',\n",
       " 'Div1LongestGTime']"
      ]
     },
     "execution_count": 91,
     "metadata": {},
     "output_type": "execute_result"
    }
   ],
   "source": [
    "list(df1.columns)"
   ]
  },
  {
   "cell_type": "code",
   "execution_count": 92,
   "metadata": {},
   "outputs": [],
   "source": [
    "conn = sqlite3.connect(r'D:\\on time data for airlines\\2019\\2019.db')\n",
    "c = conn.cursor()"
   ]
  },
  {
   "cell_type": "code",
   "execution_count": 94,
   "metadata": {},
   "outputs": [],
   "source": [
    "c.execute('''CREATE TABLE IF NOT EXISTS AIR2019_1 \n",
    " (Year,\n",
    " Quarter,Month,\n",
    " DayofMonth,DayOfWeek,\n",
    " FlightDate,\n",
    " Reporting_Airline,\n",
    " Tail_Number,Flight_Number_Reporting_Airline,\n",
    " OriginAirportID,\n",
    " OriginCityMarketID,\n",
    " Origin,\n",
    " OriginCityName,\n",
    " OriginStateName,\n",
    " DestAirportID,\n",
    " DestCityMarketID,\n",
    " Dest,\n",
    " DestCityName,\n",
    " DestStateName,\n",
    " CRSDepTime,\n",
    " DepTime,\n",
    " DepDelay,\n",
    " DepDelayMinutes,\n",
    " DepDel15,\n",
    " DepartureDelayGroups,\n",
    " DepTimeBlk,\n",
    " TaxiOut,\n",
    " WheelsOff,\n",
    " WheelsOn,\n",
    " TaxiIn,\n",
    " CRSArrTime,\n",
    " ArrTime,\n",
    " ArrDelay,\n",
    " ArrDelayMinutes,\n",
    " ArrDel15,\n",
    " ArrivalDelayGroups,\n",
    " ArrTimeBlk,\n",
    " Cancelled,\n",
    " CancellationCode,\n",
    " Diverted,\n",
    " CRSElapsedTime,\n",
    " ActualElapsedTime,\n",
    " AirTime,\n",
    " Flights,\n",
    " Distance,\n",
    " DistanceGroup,\n",
    " CarrierDelay,\n",
    " WeatherDelay,\n",
    " NASDelay,\n",
    " SecurityDelay,\n",
    " LateAircraftDelay,\n",
    " FirstDepTime,\n",
    " TotalAddGTime,\n",
    " LongestAddGTime,\n",
    " DivAirportLandings,\n",
    " DivReachedDest,\n",
    " DivActualElapsedTime,\n",
    " DivArrDelay,\n",
    " DivDistance,\n",
    " Div1Airport,\n",
    " Div1AirportID,\n",
    " Div1WheelsOn,\n",
    " Div1TotalGTime,\n",
    " Div1LongestGTime)''')\n",
    "conn.commit()"
   ]
  },
  {
   "cell_type": "code",
   "execution_count": 95,
   "metadata": {},
   "outputs": [],
   "source": [
    "df1.to_sql('AIR2019_1', conn, if_exists='replace', index = False)\n"
   ]
  },
  {
   "cell_type": "code",
   "execution_count": null,
   "metadata": {},
   "outputs": [],
   "source": []
  }
 ],
 "metadata": {
  "kernelspec": {
   "display_name": "Python 3",
   "language": "python",
   "name": "python3"
  },
  "language_info": {
   "codemirror_mode": {
    "name": "ipython",
    "version": 3
   },
   "file_extension": ".py",
   "mimetype": "text/x-python",
   "name": "python",
   "nbconvert_exporter": "python",
   "pygments_lexer": "ipython3",
   "version": "3.7.3"
  },
  "toc": {
   "base_numbering": 1,
   "nav_menu": {},
   "number_sections": false,
   "sideBar": true,
   "skip_h1_title": false,
   "title_cell": "Table of Contents",
   "title_sidebar": "Contents",
   "toc_cell": false,
   "toc_position": {},
   "toc_section_display": true,
   "toc_window_display": false
  }
 },
 "nbformat": 4,
 "nbformat_minor": 2
}
