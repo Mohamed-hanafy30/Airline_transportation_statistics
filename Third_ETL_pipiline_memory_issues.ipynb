{
 "cells": [
  {
   "cell_type": "code",
   "execution_count": 1,
   "metadata": {},
   "outputs": [],
   "source": [
    "import pandas as pd\n",
    "import ETL_helper_2 as etl2\n",
    "from os import listdir\n",
    "import gc\n",
    "import time"
   ]
  },
  {
   "cell_type": "code",
   "execution_count": 2,
   "metadata": {},
   "outputs": [],
   "source": [
    "airport=pd.read_csv(r\"D:\\on time data for airlines\\AIRPORT_names.csv\",low_memory=False)"
   ]
  },
  {
   "cell_type": "code",
   "execution_count": 3,
   "metadata": {},
   "outputs": [],
   "source": [
    "timeblock = pd.read_csv(r\"D:\\on time data for airlines\\ArrTimeBlk.csv\",low_memory=False)"
   ]
  },
  {
   "cell_type": "code",
   "execution_count": 4,
   "metadata": {},
   "outputs": [],
   "source": [
    "reporting = pd.read_csv(r\"D:\\on time data for airlines\\Reporting_airline.csv\",low_memory=False)"
   ]
  },
  {
   "cell_type": "code",
   "execution_count": 5,
   "metadata": {},
   "outputs": [],
   "source": [
    "def find_msgpack_filenames( path_to_dir, suffix=\".msgpack\" ):\n",
    "    filenames = listdir(path_to_dir)\n",
    "    return [ filename for filename in filenames if filename.endswith( suffix ) ]"
   ]
  },
  {
   "cell_type": "code",
   "execution_count": 6,
   "metadata": {},
   "outputs": [],
   "source": [
    "files = find_msgpack_filenames(r'D:\\on time data for airlines\\Quarter_msg', suffix=\".msgpack\")"
   ]
  },
  {
   "cell_type": "code",
   "execution_count": 7,
   "metadata": {},
   "outputs": [],
   "source": [
    "new_files=[]\n",
    "for file in files:\n",
    "    x= r'D:\\on time data for airlines\\Quarter_msg'+'\\\\' +file\n",
    "    new_files.append(x)"
   ]
  },
  {
   "cell_type": "code",
   "execution_count": 8,
   "metadata": {},
   "outputs": [
    {
     "data": {
      "text/plain": [
       "['D:\\\\on time data for airlines\\\\Quarter_msg\\\\1995_combined.msgpack',\n",
       " 'D:\\\\on time data for airlines\\\\Quarter_msg\\\\1996_combined.msgpack',\n",
       " 'D:\\\\on time data for airlines\\\\Quarter_msg\\\\1997_combined.msgpack',\n",
       " 'D:\\\\on time data for airlines\\\\Quarter_msg\\\\1998_combined.msgpack',\n",
       " 'D:\\\\on time data for airlines\\\\Quarter_msg\\\\1999_combined.msgpack',\n",
       " 'D:\\\\on time data for airlines\\\\Quarter_msg\\\\2000_combined.msgpack',\n",
       " 'D:\\\\on time data for airlines\\\\Quarter_msg\\\\2001_combined.msgpack',\n",
       " 'D:\\\\on time data for airlines\\\\Quarter_msg\\\\2002_combined.msgpack',\n",
       " 'D:\\\\on time data for airlines\\\\Quarter_msg\\\\2003_combined.msgpack',\n",
       " 'D:\\\\on time data for airlines\\\\Quarter_msg\\\\2004_combined.msgpack',\n",
       " 'D:\\\\on time data for airlines\\\\Quarter_msg\\\\2005_combined.msgpack',\n",
       " 'D:\\\\on time data for airlines\\\\Quarter_msg\\\\2006_combined.msgpack',\n",
       " 'D:\\\\on time data for airlines\\\\Quarter_msg\\\\2007_combined.msgpack',\n",
       " 'D:\\\\on time data for airlines\\\\Quarter_msg\\\\2008_combined.msgpack',\n",
       " 'D:\\\\on time data for airlines\\\\Quarter_msg\\\\2009_combined.msgpack',\n",
       " 'D:\\\\on time data for airlines\\\\Quarter_msg\\\\2010_combined.msgpack',\n",
       " 'D:\\\\on time data for airlines\\\\Quarter_msg\\\\2011_combined.msgpack',\n",
       " 'D:\\\\on time data for airlines\\\\Quarter_msg\\\\2012_combined.msgpack',\n",
       " 'D:\\\\on time data for airlines\\\\Quarter_msg\\\\2013_combined.msgpack',\n",
       " 'D:\\\\on time data for airlines\\\\Quarter_msg\\\\2014_combined.msgpack',\n",
       " 'D:\\\\on time data for airlines\\\\Quarter_msg\\\\2015_combined.msgpack',\n",
       " 'D:\\\\on time data for airlines\\\\Quarter_msg\\\\2016_combined.msgpack',\n",
       " 'D:\\\\on time data for airlines\\\\Quarter_msg\\\\2017_combined.msgpack',\n",
       " 'D:\\\\on time data for airlines\\\\Quarter_msg\\\\2018_combined.msgpack',\n",
       " 'D:\\\\on time data for airlines\\\\Quarter_msg\\\\2019_combined.msgpack',\n",
       " 'D:\\\\on time data for airlines\\\\Quarter_msg\\\\2020_combined.msgpack']"
      ]
     },
     "execution_count": 8,
     "metadata": {},
     "output_type": "execute_result"
    }
   ],
   "source": [
    "new_files"
   ]
  },
  {
   "cell_type": "code",
   "execution_count": 9,
   "metadata": {},
   "outputs": [
    {
     "name": "stdout",
     "output_type": "stream",
     "text": [
      "The execution time for the abovesection is 14.316 minutes\n"
     ]
    }
   ],
   "source": [
    "start = time.time()\n",
    "\n",
    "for file in new_files:\n",
    "    Frame = pd.read_msgpack(file)\n",
    "    Frame = etl2.map_airport_name(Frame,airport)\n",
    "    Frame = etl2.map_time_block(Frame,timeblock)\n",
    "    Frame = etl2.map_Reporting_Airline(Frame,reporting)\n",
    "    Frame.to_msgpack(file)\n",
    "    del(Frame)\n",
    "    gc.collect()\n",
    "    \n",
    "end =time.time()\n",
    "duration = round((end-start)/60,3)\n",
    "print(\"The execution time for the abovesection is {} minutes\".format(duration))"
   ]
  }
 ],
 "metadata": {
  "kernelspec": {
   "display_name": "Python 3",
   "language": "python",
   "name": "python3"
  },
  "language_info": {
   "codemirror_mode": {
    "name": "ipython",
    "version": 3
   },
   "file_extension": ".py",
   "mimetype": "text/x-python",
   "name": "python",
   "nbconvert_exporter": "python",
   "pygments_lexer": "ipython3",
   "version": "3.7.3"
  },
  "toc": {
   "base_numbering": 1,
   "nav_menu": {},
   "number_sections": false,
   "sideBar": true,
   "skip_h1_title": false,
   "title_cell": "Table of Contents",
   "title_sidebar": "Contents",
   "toc_cell": false,
   "toc_position": {},
   "toc_section_display": true,
   "toc_window_display": false
  }
 },
 "nbformat": 4,
 "nbformat_minor": 2
}
